{
  "nbformat": 4,
  "nbformat_minor": 0,
  "metadata": {
    "colab": {
      "name": "pyspark code file",
      "provenance": []
    },
    "kernelspec": {
      "name": "python3",
      "display_name": "Python 3"
    }
  },
  "cells": [
    {
      "cell_type": "code",
      "metadata": {
        "id": "EMc3kfc8-tFs",
        "colab_type": "code",
        "colab": {}
      },
      "source": [
        "from pyspark import SparkContext\n",
        "from pyspark.sql import SQLContext\n",
        "from pyspark.sql.types import *\n",
        "sqlContext = SQLContext(sc)"
      ],
      "execution_count": 57,
      "outputs": []
    },
    {
      "cell_type": "code",
      "metadata": {
        "id": "2hGWfY-5-RjU",
        "colab_type": "code",
        "colab": {}
      },
      "source": [
        "df = sqlContext\n",
        "    .read.format(\"com.databricks.spark.csv\")\n",
        "    .option(\"header\", \"true\")\n",
        "    .option(\"inferschema\", \"true\")\n",
        "    .option(\"mode\", \"DROPMALFORMED\")\n",
        "    .load(\"/home/training/Desktop/diagnoses.csv\")"
      ],
      "execution_count": 58,
      "outputs": []
    },
    {
      "cell_type": "code",
      "metadata": {
        "id": "d2pD9P_0-eHZ",
        "colab_type": "code",
        "colab": {}
      },
      "source": [
        "df1 = sqlContext\n",
        "    .read.format(\"com.databricks.spark.csv\")\n",
        "    .option(\"header\", \"true\")\n",
        "    .option(\"inferschema\", \"true\")\n",
        "    .option(\"mode\", \"DROPMALFORMED\")\n",
        "    .load(\"/home/training/Desktop/hearing_evaluation.csv\")"
      ],
      "execution_count": 59,
      "outputs": []
    },
    {
      "cell_type": "code",
      "metadata": {
        "id": "PnxPjyq6-jqU",
        "colab_type": "code",
        "colab": {}
      },
      "source": [
        "df2= sqlContext\n",
        "    .read.format(\"com.databricks.spark.csv\")\n",
        "    .option(\"header\", \"true\")\n",
        "    .option(\"inferschema\", \"true\")\n",
        "    .option(\"mode\", \"DROPMALFORMED\")\n",
        "    .load(\"/home/training/Desktop/imaging.csv\")"
      ],
      "execution_count": 60,
      "outputs": []
    },
    {
      "cell_type": "code",
      "metadata": {
        "id": "Vu2i44-_OLi4",
        "colab_type": "code",
        "colab": {
          "base_uri": "https://localhost:8080/",
          "height": 343
        },
        "outputId": "532bd1aa-f077-4c47-f3f4-cfeb44c26bf4"
      },
      "source": [
        "df.head(10)"
      ],
      "execution_count": 100,
      "outputs": [
        {
          "output_type": "execute_result",
          "data": {
            "text/html": [
              "<div>\n",
              "<style scoped>\n",
              "    .dataframe tbody tr th:only-of-type {\n",
              "        vertical-align: middle;\n",
              "    }\n",
              "\n",
              "    .dataframe tbody tr th {\n",
              "        vertical-align: top;\n",
              "    }\n",
              "\n",
              "    .dataframe thead th {\n",
              "        text-align: right;\n",
              "    }\n",
              "</style>\n",
              "<table border=\"1\" class=\"dataframe\">\n",
              "  <thead>\n",
              "    <tr style=\"text-align: right;\">\n",
              "      <th></th>\n",
              "      <th>patient_id</th>\n",
              "      <th>diagnosis_code</th>\n",
              "      <th>diagnosis_age</th>\n",
              "    </tr>\n",
              "  </thead>\n",
              "  <tbody>\n",
              "    <tr>\n",
              "      <th>0</th>\n",
              "      <td>00008RINR</td>\n",
              "      <td>315.350000</td>\n",
              "      <td>3.867372</td>\n",
              "    </tr>\n",
              "    <tr>\n",
              "      <th>1</th>\n",
              "      <td>00008RINR</td>\n",
              "      <td>333.100000</td>\n",
              "      <td>3.269294</td>\n",
              "    </tr>\n",
              "    <tr>\n",
              "      <th>2</th>\n",
              "      <td>00008RINR</td>\n",
              "      <td>372.140000</td>\n",
              "      <td>2.436191</td>\n",
              "    </tr>\n",
              "    <tr>\n",
              "      <th>3</th>\n",
              "      <td>00008RINR</td>\n",
              "      <td>375.200000</td>\n",
              "      <td>3.425355</td>\n",
              "    </tr>\n",
              "    <tr>\n",
              "      <th>4</th>\n",
              "      <td>00008RINR</td>\n",
              "      <td>375.220000</td>\n",
              "      <td>3.148826</td>\n",
              "    </tr>\n",
              "    <tr>\n",
              "      <th>5</th>\n",
              "      <td>00008RINR</td>\n",
              "      <td>375.560000</td>\n",
              "      <td>3.027580</td>\n",
              "    </tr>\n",
              "    <tr>\n",
              "      <th>6</th>\n",
              "      <td>00008RINR</td>\n",
              "      <td>380.400000</td>\n",
              "      <td>3.870110</td>\n",
              "    </tr>\n",
              "    <tr>\n",
              "      <th>7</th>\n",
              "      <td>00008RINR</td>\n",
              "      <td>381.300000</td>\n",
              "      <td>1.966112</td>\n",
              "    </tr>\n",
              "    <tr>\n",
              "      <th>8</th>\n",
              "      <td>00008RINR</td>\n",
              "      <td>381.400000</td>\n",
              "      <td>2.882471</td>\n",
              "    </tr>\n",
              "    <tr>\n",
              "      <th>9</th>\n",
              "      <td>00008RINR</td>\n",
              "      <td>381.810000</td>\n",
              "      <td>2.149552</td>\n",
              "    </tr>\n",
              "  </tbody>\n",
              "</table>\n",
              "</div>"
            ],
            "text/plain": [
              "  patient_id diagnosis_code  diagnosis_age\n",
              "0  00008RINR     315.350000       3.867372\n",
              "1  00008RINR     333.100000       3.269294\n",
              "2  00008RINR     372.140000       2.436191\n",
              "3  00008RINR     375.200000       3.425355\n",
              "4  00008RINR     375.220000       3.148826\n",
              "5  00008RINR     375.560000       3.027580\n",
              "6  00008RINR     380.400000       3.870110\n",
              "7  00008RINR     381.300000       1.966112\n",
              "8  00008RINR     381.400000       2.882471\n",
              "9  00008RINR     381.810000       2.149552"
            ]
          },
          "metadata": {
            "tags": []
          },
          "execution_count": 100
        }
      ]
    },
    {
      "cell_type": "code",
      "metadata": {
        "id": "jEsaVRQhPBSx",
        "colab_type": "code",
        "colab": {
          "base_uri": "https://localhost:8080/",
          "height": 343
        },
        "outputId": "49307e7c-a7f3-406d-f093-80668cedd642"
      },
      "source": [
        "df1.head(10)"
      ],
      "execution_count": 67,
      "outputs": [
        {
          "output_type": "execute_result",
          "data": {
            "text/html": [
              "<div>\n",
              "<style scoped>\n",
              "    .dataframe tbody tr th:only-of-type {\n",
              "        vertical-align: middle;\n",
              "    }\n",
              "\n",
              "    .dataframe tbody tr th {\n",
              "        vertical-align: top;\n",
              "    }\n",
              "\n",
              "    .dataframe thead th {\n",
              "        text-align: right;\n",
              "    }\n",
              "</style>\n",
              "<table border=\"1\" class=\"dataframe\">\n",
              "  <thead>\n",
              "    <tr style=\"text-align: right;\">\n",
              "      <th></th>\n",
              "      <th>patient_id</th>\n",
              "      <th>evaluation_age</th>\n",
              "      <th>severity_of_hearing_loss</th>\n",
              "      <th>unilateral_or_bilateral</th>\n",
              "      <th>has_conductive_hearing_loss</th>\n",
              "      <th>has_sensorineural_hearing_loss</th>\n",
              "    </tr>\n",
              "  </thead>\n",
              "  <tbody>\n",
              "    <tr>\n",
              "      <th>0</th>\n",
              "      <td>000JE5P7L</td>\n",
              "      <td>3.381548</td>\n",
              "      <td>Normal</td>\n",
              "      <td>Insufficient Data</td>\n",
              "      <td>f</td>\n",
              "      <td>f</td>\n",
              "    </tr>\n",
              "    <tr>\n",
              "      <th>1</th>\n",
              "      <td>001M87HBZ</td>\n",
              "      <td>5.191287</td>\n",
              "      <td>Normal</td>\n",
              "      <td>Insufficient Data</td>\n",
              "      <td>t</td>\n",
              "      <td>f</td>\n",
              "    </tr>\n",
              "    <tr>\n",
              "      <th>2</th>\n",
              "      <td>001M87HBZ</td>\n",
              "      <td>8.243763</td>\n",
              "      <td>Mild</td>\n",
              "      <td>Insufficient Data</td>\n",
              "      <td>t</td>\n",
              "      <td>f</td>\n",
              "    </tr>\n",
              "    <tr>\n",
              "      <th>3</th>\n",
              "      <td>002ANH0GH</td>\n",
              "      <td>7.355440</td>\n",
              "      <td>Normal</td>\n",
              "      <td>Normal</td>\n",
              "      <td>f</td>\n",
              "      <td>f</td>\n",
              "    </tr>\n",
              "    <tr>\n",
              "      <th>4</th>\n",
              "      <td>002ANH0GH</td>\n",
              "      <td>7.380081</td>\n",
              "      <td>Normal</td>\n",
              "      <td>Insufficient Data</td>\n",
              "      <td>f</td>\n",
              "      <td>f</td>\n",
              "    </tr>\n",
              "    <tr>\n",
              "      <th>5</th>\n",
              "      <td>005HXCYFF</td>\n",
              "      <td>4.267107</td>\n",
              "      <td>Normal</td>\n",
              "      <td>Insufficient Data</td>\n",
              "      <td>f</td>\n",
              "      <td>f</td>\n",
              "    </tr>\n",
              "    <tr>\n",
              "      <th>6</th>\n",
              "      <td>00B0OT59S</td>\n",
              "      <td>5.987728</td>\n",
              "      <td>Moderate</td>\n",
              "      <td>Insufficient Data</td>\n",
              "      <td>t</td>\n",
              "      <td>t</td>\n",
              "    </tr>\n",
              "    <tr>\n",
              "      <th>7</th>\n",
              "      <td>00BGN5YV7</td>\n",
              "      <td>4.349244</td>\n",
              "      <td>Normal</td>\n",
              "      <td>Insufficient Data</td>\n",
              "      <td>f</td>\n",
              "      <td>f</td>\n",
              "    </tr>\n",
              "    <tr>\n",
              "      <th>8</th>\n",
              "      <td>00F1S17X1</td>\n",
              "      <td>4.464236</td>\n",
              "      <td>Normal</td>\n",
              "      <td>Insufficient Data</td>\n",
              "      <td>f</td>\n",
              "      <td>f</td>\n",
              "    </tr>\n",
              "    <tr>\n",
              "      <th>9</th>\n",
              "      <td>00HQAUUEY</td>\n",
              "      <td>12.723302</td>\n",
              "      <td>Moderate</td>\n",
              "      <td>Bilateral</td>\n",
              "      <td>t</td>\n",
              "      <td>t</td>\n",
              "    </tr>\n",
              "  </tbody>\n",
              "</table>\n",
              "</div>"
            ],
            "text/plain": [
              "  patient_id  ...  has_sensorineural_hearing_loss\n",
              "0  000JE5P7L  ...                               f\n",
              "1  001M87HBZ  ...                               f\n",
              "2  001M87HBZ  ...                               f\n",
              "3  002ANH0GH  ...                               f\n",
              "4  002ANH0GH  ...                               f\n",
              "5  005HXCYFF  ...                               f\n",
              "6  00B0OT59S  ...                               t\n",
              "7  00BGN5YV7  ...                               f\n",
              "8  00F1S17X1  ...                               f\n",
              "9  00HQAUUEY  ...                               t\n",
              "\n",
              "[10 rows x 6 columns]"
            ]
          },
          "metadata": {
            "tags": []
          },
          "execution_count": 67
        }
      ]
    },
    {
      "cell_type": "code",
      "metadata": {
        "id": "SS9ut04SoRX6",
        "colab_type": "code",
        "colab": {
          "base_uri": "https://localhost:8080/",
          "height": 168
        },
        "outputId": "f4d8bbf1-2381-44d4-a9aa-3b6b83b9f867"
      },
      "source": [
        "(df1['severity_of_hearing_loss'].value_counts())"
      ],
      "execution_count": 68,
      "outputs": [
        {
          "output_type": "execute_result",
          "data": {
            "text/plain": [
              "Normal               31092\n",
              "Mild                  9887\n",
              "Moderate              3777\n",
              "Moderately Severe     2023\n",
              "Slight                1619\n",
              "Profound               323\n",
              "Severe                 229\n",
              "Insufficient Data       57\n",
              "Name: severity_of_hearing_loss, dtype: int64"
            ]
          },
          "metadata": {
            "tags": []
          },
          "execution_count": 68
        }
      ]
    },
    {
      "cell_type": "code",
      "metadata": {
        "id": "NyhgpHMOPvOS",
        "colab_type": "code",
        "colab": {
          "base_uri": "https://localhost:8080/",
          "height": 343
        },
        "outputId": "e0855b84-17af-4684-eb99-1b6f479b3560"
      },
      "source": [
        "df1.head(10)"
      ],
      "execution_count": 73,
      "outputs": [
        {
          "output_type": "execute_result",
          "data": {
            "text/html": [
              "<div>\n",
              "<style scoped>\n",
              "    .dataframe tbody tr th:only-of-type {\n",
              "        vertical-align: middle;\n",
              "    }\n",
              "\n",
              "    .dataframe tbody tr th {\n",
              "        vertical-align: top;\n",
              "    }\n",
              "\n",
              "    .dataframe thead th {\n",
              "        text-align: right;\n",
              "    }\n",
              "</style>\n",
              "<table border=\"1\" class=\"dataframe\">\n",
              "  <thead>\n",
              "    <tr style=\"text-align: right;\">\n",
              "      <th></th>\n",
              "      <th>patient_id</th>\n",
              "      <th>evaluation_age</th>\n",
              "      <th>severity_of_hearing_loss</th>\n",
              "      <th>unilateral_or_bilateral</th>\n",
              "      <th>has_conductive_hearing_loss</th>\n",
              "      <th>has_sensorineural_hearing_loss</th>\n",
              "    </tr>\n",
              "  </thead>\n",
              "  <tbody>\n",
              "    <tr>\n",
              "      <th>0</th>\n",
              "      <td>000JE5P7L</td>\n",
              "      <td>3.381548</td>\n",
              "      <td>Normal</td>\n",
              "      <td>Insufficient Data</td>\n",
              "      <td>f</td>\n",
              "      <td>f</td>\n",
              "    </tr>\n",
              "    <tr>\n",
              "      <th>1</th>\n",
              "      <td>001M87HBZ</td>\n",
              "      <td>5.191287</td>\n",
              "      <td>Normal</td>\n",
              "      <td>Insufficient Data</td>\n",
              "      <td>t</td>\n",
              "      <td>f</td>\n",
              "    </tr>\n",
              "    <tr>\n",
              "      <th>2</th>\n",
              "      <td>001M87HBZ</td>\n",
              "      <td>8.243763</td>\n",
              "      <td>Mild</td>\n",
              "      <td>Insufficient Data</td>\n",
              "      <td>t</td>\n",
              "      <td>f</td>\n",
              "    </tr>\n",
              "    <tr>\n",
              "      <th>3</th>\n",
              "      <td>002ANH0GH</td>\n",
              "      <td>7.355440</td>\n",
              "      <td>Normal</td>\n",
              "      <td>Normal</td>\n",
              "      <td>f</td>\n",
              "      <td>f</td>\n",
              "    </tr>\n",
              "    <tr>\n",
              "      <th>4</th>\n",
              "      <td>002ANH0GH</td>\n",
              "      <td>7.380081</td>\n",
              "      <td>Normal</td>\n",
              "      <td>Insufficient Data</td>\n",
              "      <td>f</td>\n",
              "      <td>f</td>\n",
              "    </tr>\n",
              "    <tr>\n",
              "      <th>5</th>\n",
              "      <td>005HXCYFF</td>\n",
              "      <td>4.267107</td>\n",
              "      <td>Normal</td>\n",
              "      <td>Insufficient Data</td>\n",
              "      <td>f</td>\n",
              "      <td>f</td>\n",
              "    </tr>\n",
              "    <tr>\n",
              "      <th>6</th>\n",
              "      <td>00B0OT59S</td>\n",
              "      <td>5.987728</td>\n",
              "      <td>Moderate</td>\n",
              "      <td>Insufficient Data</td>\n",
              "      <td>t</td>\n",
              "      <td>t</td>\n",
              "    </tr>\n",
              "    <tr>\n",
              "      <th>7</th>\n",
              "      <td>00BGN5YV7</td>\n",
              "      <td>4.349244</td>\n",
              "      <td>Normal</td>\n",
              "      <td>Insufficient Data</td>\n",
              "      <td>f</td>\n",
              "      <td>f</td>\n",
              "    </tr>\n",
              "    <tr>\n",
              "      <th>8</th>\n",
              "      <td>00F1S17X1</td>\n",
              "      <td>4.464236</td>\n",
              "      <td>Normal</td>\n",
              "      <td>Insufficient Data</td>\n",
              "      <td>f</td>\n",
              "      <td>f</td>\n",
              "    </tr>\n",
              "    <tr>\n",
              "      <th>9</th>\n",
              "      <td>00HQAUUEY</td>\n",
              "      <td>12.723302</td>\n",
              "      <td>Moderate</td>\n",
              "      <td>Bilateral</td>\n",
              "      <td>t</td>\n",
              "      <td>t</td>\n",
              "    </tr>\n",
              "  </tbody>\n",
              "</table>\n",
              "</div>"
            ],
            "text/plain": [
              "  patient_id  ...  has_sensorineural_hearing_loss\n",
              "0  000JE5P7L  ...                               f\n",
              "1  001M87HBZ  ...                               f\n",
              "2  001M87HBZ  ...                               f\n",
              "3  002ANH0GH  ...                               f\n",
              "4  002ANH0GH  ...                               f\n",
              "5  005HXCYFF  ...                               f\n",
              "6  00B0OT59S  ...                               t\n",
              "7  00BGN5YV7  ...                               f\n",
              "8  00F1S17X1  ...                               f\n",
              "9  00HQAUUEY  ...                               t\n",
              "\n",
              "[10 rows x 6 columns]"
            ]
          },
          "metadata": {
            "tags": []
          },
          "execution_count": 73
        }
      ]
    },
    {
      "cell_type": "code",
      "metadata": {
        "id": "Klil5IXOT2gZ",
        "colab_type": "code",
        "colab": {
          "base_uri": "https://localhost:8080/",
          "height": 343
        },
        "outputId": "ea9b8a74-9fd3-4420-ac34-52733cff918c"
      },
      "source": [
        "df2.head(10)"
      ],
      "execution_count": 102,
      "outputs": [
        {
          "output_type": "execute_result",
          "data": {
            "text/html": [
              "<div>\n",
              "<style scoped>\n",
              "    .dataframe tbody tr th:only-of-type {\n",
              "        vertical-align: middle;\n",
              "    }\n",
              "\n",
              "    .dataframe tbody tr th {\n",
              "        vertical-align: top;\n",
              "    }\n",
              "\n",
              "    .dataframe thead th {\n",
              "        text-align: right;\n",
              "    }\n",
              "</style>\n",
              "<table border=\"1\" class=\"dataframe\">\n",
              "  <thead>\n",
              "    <tr style=\"text-align: right;\">\n",
              "      <th></th>\n",
              "      <th>patient_id</th>\n",
              "      <th>imaging_age</th>\n",
              "      <th>modality</th>\n",
              "    </tr>\n",
              "  </thead>\n",
              "  <tbody>\n",
              "    <tr>\n",
              "      <th>0</th>\n",
              "      <td>0263DNQG8</td>\n",
              "      <td>0.078671</td>\n",
              "      <td>CT</td>\n",
              "    </tr>\n",
              "    <tr>\n",
              "      <th>1</th>\n",
              "      <td>02AQQ4CLC</td>\n",
              "      <td>5.473292</td>\n",
              "      <td>MR</td>\n",
              "    </tr>\n",
              "    <tr>\n",
              "      <th>2</th>\n",
              "      <td>02AQQ4CLC</td>\n",
              "      <td>5.582517</td>\n",
              "      <td>MR</td>\n",
              "    </tr>\n",
              "    <tr>\n",
              "      <th>3</th>\n",
              "      <td>02AQQ4CLC</td>\n",
              "      <td>5.727917</td>\n",
              "      <td>MR</td>\n",
              "    </tr>\n",
              "    <tr>\n",
              "      <th>4</th>\n",
              "      <td>03IZS1W0Q</td>\n",
              "      <td>2.334889</td>\n",
              "      <td>MR</td>\n",
              "    </tr>\n",
              "    <tr>\n",
              "      <th>5</th>\n",
              "      <td>03L1A3ZBB</td>\n",
              "      <td>2.630583</td>\n",
              "      <td>CT</td>\n",
              "    </tr>\n",
              "    <tr>\n",
              "      <th>6</th>\n",
              "      <td>04T2TBJU0</td>\n",
              "      <td>8.112344</td>\n",
              "      <td>CT</td>\n",
              "    </tr>\n",
              "    <tr>\n",
              "      <th>7</th>\n",
              "      <td>05S8KKZXZ</td>\n",
              "      <td>2.031822</td>\n",
              "      <td>CT</td>\n",
              "    </tr>\n",
              "    <tr>\n",
              "      <th>8</th>\n",
              "      <td>066ERGFDX</td>\n",
              "      <td>0.251160</td>\n",
              "      <td>MR</td>\n",
              "    </tr>\n",
              "    <tr>\n",
              "      <th>9</th>\n",
              "      <td>074GMTQ9X</td>\n",
              "      <td>8.002827</td>\n",
              "      <td>MR</td>\n",
              "    </tr>\n",
              "  </tbody>\n",
              "</table>\n",
              "</div>"
            ],
            "text/plain": [
              "  patient_id  imaging_age modality\n",
              "0  0263DNQG8     0.078671       CT\n",
              "1  02AQQ4CLC     5.473292       MR\n",
              "2  02AQQ4CLC     5.582517       MR\n",
              "3  02AQQ4CLC     5.727917       MR\n",
              "4  03IZS1W0Q     2.334889       MR\n",
              "5  03L1A3ZBB     2.630583       CT\n",
              "6  04T2TBJU0     8.112344       CT\n",
              "7  05S8KKZXZ     2.031822       CT\n",
              "8  066ERGFDX     0.251160       MR\n",
              "9  074GMTQ9X     8.002827       MR"
            ]
          },
          "metadata": {
            "tags": []
          },
          "execution_count": 102
        }
      ]
    },
    {
      "cell_type": "markdown",
      "metadata": {
        "id": "f3n_i02LRv6j",
        "colab_type": "text"
      },
      "source": [
        "### A diagnosis (i.e. a diagnosis code) can be assigned to a patient directly at the time of a hearing evaluation. List the top 5 most common diagnosis codes given to patients at such a point in time along with their frequencies."
      ]
    },
    {
      "cell_type": "code",
      "metadata": {
        "id": "hUZ4Ok7jAVUU",
        "colab_type": "code",
        "colab": {
          "base_uri": "https://localhost:8080/",
          "height": 118
        },
        "outputId": "ae1726d9-b6de-46f2-b1c7-2eb85a53f406"
      },
      "source": [
        "df['diagnosis_code'].value_counts()[:5]"
      ],
      "execution_count": 103,
      "outputs": [
        {
          "output_type": "execute_result",
          "data": {
            "text/plain": [
              "389.900000    85844\n",
              "382.900000    57055\n",
              "V20.2         45568\n",
              "381.810000    43537\n",
              "465.900000    40315\n",
              "Name: diagnosis_code, dtype: int64"
            ]
          },
          "metadata": {
            "tags": []
          },
          "execution_count": 103
        }
      ]
    },
    {
      "cell_type": "code",
      "metadata": {
        "id": "g-o8k2GERLnj",
        "colab_type": "code",
        "colab": {}
      },
      "source": [
        "df4= pd.merge(df,df2,on='patient_id')"
      ],
      "execution_count": 78,
      "outputs": []
    },
    {
      "cell_type": "code",
      "metadata": {
        "id": "hLPXlNVBUawt",
        "colab_type": "code",
        "colab": {
          "base_uri": "https://localhost:8080/",
          "height": 343
        },
        "outputId": "1e4413d3-6d4a-485c-8911-6c6ccee671aa"
      },
      "source": [
        "df4.head(10)"
      ],
      "execution_count": 79,
      "outputs": [
        {
          "output_type": "execute_result",
          "data": {
            "text/html": [
              "<div>\n",
              "<style scoped>\n",
              "    .dataframe tbody tr th:only-of-type {\n",
              "        vertical-align: middle;\n",
              "    }\n",
              "\n",
              "    .dataframe tbody tr th {\n",
              "        vertical-align: top;\n",
              "    }\n",
              "\n",
              "    .dataframe thead th {\n",
              "        text-align: right;\n",
              "    }\n",
              "</style>\n",
              "<table border=\"1\" class=\"dataframe\">\n",
              "  <thead>\n",
              "    <tr style=\"text-align: right;\">\n",
              "      <th></th>\n",
              "      <th>patient_id</th>\n",
              "      <th>diagnosis_code</th>\n",
              "      <th>diagnosis_age</th>\n",
              "      <th>imaging_age</th>\n",
              "      <th>modality</th>\n",
              "    </tr>\n",
              "  </thead>\n",
              "  <tbody>\n",
              "    <tr>\n",
              "      <th>0</th>\n",
              "      <td>0263DNQG8</td>\n",
              "      <td>388.400000</td>\n",
              "      <td>0.067720</td>\n",
              "      <td>0.078671</td>\n",
              "      <td>CT</td>\n",
              "    </tr>\n",
              "    <tr>\n",
              "      <th>1</th>\n",
              "      <td>0263DNQG8</td>\n",
              "      <td>389.000000</td>\n",
              "      <td>0.067720</td>\n",
              "      <td>0.078671</td>\n",
              "      <td>CT</td>\n",
              "    </tr>\n",
              "    <tr>\n",
              "      <th>2</th>\n",
              "      <td>0263DNQG8</td>\n",
              "      <td>389.150000</td>\n",
              "      <td>0.067720</td>\n",
              "      <td>0.078671</td>\n",
              "      <td>CT</td>\n",
              "    </tr>\n",
              "    <tr>\n",
              "      <th>3</th>\n",
              "      <td>0263DNQG8</td>\n",
              "      <td>389.900000</td>\n",
              "      <td>0.067720</td>\n",
              "      <td>0.078671</td>\n",
              "      <td>CT</td>\n",
              "    </tr>\n",
              "    <tr>\n",
              "      <th>4</th>\n",
              "      <td>0263DNQG8</td>\n",
              "      <td>744.300000</td>\n",
              "      <td>0.067720</td>\n",
              "      <td>0.078671</td>\n",
              "      <td>CT</td>\n",
              "    </tr>\n",
              "    <tr>\n",
              "      <th>5</th>\n",
              "      <td>0263DNQG8</td>\n",
              "      <td>V72.19</td>\n",
              "      <td>0.067720</td>\n",
              "      <td>0.078671</td>\n",
              "      <td>CT</td>\n",
              "    </tr>\n",
              "    <tr>\n",
              "      <th>6</th>\n",
              "      <td>02AQQ4CLC</td>\n",
              "      <td>190.500000</td>\n",
              "      <td>10.027428</td>\n",
              "      <td>5.473292</td>\n",
              "      <td>MR</td>\n",
              "    </tr>\n",
              "    <tr>\n",
              "      <th>7</th>\n",
              "      <td>02AQQ4CLC</td>\n",
              "      <td>190.500000</td>\n",
              "      <td>10.027428</td>\n",
              "      <td>5.582517</td>\n",
              "      <td>MR</td>\n",
              "    </tr>\n",
              "    <tr>\n",
              "      <th>8</th>\n",
              "      <td>02AQQ4CLC</td>\n",
              "      <td>190.500000</td>\n",
              "      <td>10.027428</td>\n",
              "      <td>5.727917</td>\n",
              "      <td>MR</td>\n",
              "    </tr>\n",
              "    <tr>\n",
              "      <th>9</th>\n",
              "      <td>02AQQ4CLC</td>\n",
              "      <td>253.300000</td>\n",
              "      <td>10.027428</td>\n",
              "      <td>5.473292</td>\n",
              "      <td>MR</td>\n",
              "    </tr>\n",
              "  </tbody>\n",
              "</table>\n",
              "</div>"
            ],
            "text/plain": [
              "  patient_id diagnosis_code  diagnosis_age  imaging_age modality\n",
              "0  0263DNQG8     388.400000       0.067720     0.078671       CT\n",
              "1  0263DNQG8     389.000000       0.067720     0.078671       CT\n",
              "2  0263DNQG8     389.150000       0.067720     0.078671       CT\n",
              "3  0263DNQG8     389.900000       0.067720     0.078671       CT\n",
              "4  0263DNQG8     744.300000       0.067720     0.078671       CT\n",
              "5  0263DNQG8         V72.19       0.067720     0.078671       CT\n",
              "6  02AQQ4CLC     190.500000      10.027428     5.473292       MR\n",
              "7  02AQQ4CLC     190.500000      10.027428     5.582517       MR\n",
              "8  02AQQ4CLC     190.500000      10.027428     5.727917       MR\n",
              "9  02AQQ4CLC     253.300000      10.027428     5.473292       MR"
            ]
          },
          "metadata": {
            "tags": []
          },
          "execution_count": 79
        }
      ]
    },
    {
      "cell_type": "markdown",
      "metadata": {
        "id": "MlAlxMGmjcSl",
        "colab_type": "text"
      },
      "source": [
        "#### A diagnosis (i.e. a diagnosis code) can be assigned to a patient directly at the time of a hearing evaluation. List the top 5 most common diagnosis codes given to patients at such a point in time along with their frequencies."
      ]
    },
    {
      "cell_type": "code",
      "metadata": {
        "id": "HtCWVHGrdaX4",
        "colab_type": "code",
        "colab": {
          "base_uri": "https://localhost:8080/",
          "height": 225
        },
        "outputId": "a2698d44-eede-4f19-ec4c-6afbaf480d03"
      },
      "source": [
        "g= df4.groupby(['diagnosis_code'])\n",
        "g=g.filter(lambda x: x['patient_id'].count()>=1)\n",
        "g=g.loc[:,['diagnosis_code','patient_id']]\n",
        "g=g.groupby(['diagnosis_code']).count()\n",
        "g.sort_values(by=['patient_id'],ascending=False)[:5]"
      ],
      "execution_count": 80,
      "outputs": [
        {
          "output_type": "execute_result",
          "data": {
            "text/html": [
              "<div>\n",
              "<style scoped>\n",
              "    .dataframe tbody tr th:only-of-type {\n",
              "        vertical-align: middle;\n",
              "    }\n",
              "\n",
              "    .dataframe tbody tr th {\n",
              "        vertical-align: top;\n",
              "    }\n",
              "\n",
              "    .dataframe thead th {\n",
              "        text-align: right;\n",
              "    }\n",
              "</style>\n",
              "<table border=\"1\" class=\"dataframe\">\n",
              "  <thead>\n",
              "    <tr style=\"text-align: right;\">\n",
              "      <th></th>\n",
              "      <th>patient_id</th>\n",
              "    </tr>\n",
              "    <tr>\n",
              "      <th>diagnosis_code</th>\n",
              "      <th></th>\n",
              "    </tr>\n",
              "  </thead>\n",
              "  <tbody>\n",
              "    <tr>\n",
              "      <th>389.900000</th>\n",
              "      <td>1979</td>\n",
              "    </tr>\n",
              "    <tr>\n",
              "      <th>V72.19</th>\n",
              "      <td>1773</td>\n",
              "    </tr>\n",
              "    <tr>\n",
              "      <th>381.810000</th>\n",
              "      <td>1029</td>\n",
              "    </tr>\n",
              "    <tr>\n",
              "      <th>389.100000</th>\n",
              "      <td>1020</td>\n",
              "    </tr>\n",
              "    <tr>\n",
              "      <th>389.180000</th>\n",
              "      <td>995</td>\n",
              "    </tr>\n",
              "  </tbody>\n",
              "</table>\n",
              "</div>"
            ],
            "text/plain": [
              "                patient_id\n",
              "diagnosis_code            \n",
              "389.900000            1979\n",
              "V72.19                1773\n",
              "381.810000            1029\n",
              "389.100000            1020\n",
              "389.180000             995"
            ]
          },
          "metadata": {
            "tags": []
          },
          "execution_count": 80
        }
      ]
    },
    {
      "cell_type": "markdown",
      "metadata": {
        "id": "k9Z2s43YjvVg",
        "colab_type": "text"
      },
      "source": [
        "##### In an effort to check that their dataset is `sensible', the client would like to extract the highest number of diagnoses assigned to a single patient. (Both the patient ID and the number of diagnoses need to be included)."
      ]
    },
    {
      "cell_type": "code",
      "metadata": {
        "id": "QJ9Xdu9QhIxf",
        "colab_type": "code",
        "colab": {
          "base_uri": "https://localhost:8080/",
          "height": 431
        },
        "outputId": "4219549b-0d3a-4959-bc40-c8d52dc9d786"
      },
      "source": [
        "g1= df4.groupby(['patient_id'])\n",
        "g1=g1.filter(lambda x: x['diagnosis_code'].count()>=1)\n",
        "g1=g1.loc[:,['patient_id','diagnosis_code']]\n",
        "g1=g1.groupby(['patient_id']).count()\n",
        "g1['diagnosis_code']\n",
        "g1.rename(columns = {'diagnosis_code':'Number of diagnosis'}, inplace = True)\n",
        "g1.sort_values(by=['Number of diagnosis'],ascending=False)"
      ],
      "execution_count": 81,
      "outputs": [
        {
          "output_type": "execute_result",
          "data": {
            "text/html": [
              "<div>\n",
              "<style scoped>\n",
              "    .dataframe tbody tr th:only-of-type {\n",
              "        vertical-align: middle;\n",
              "    }\n",
              "\n",
              "    .dataframe tbody tr th {\n",
              "        vertical-align: top;\n",
              "    }\n",
              "\n",
              "    .dataframe thead th {\n",
              "        text-align: right;\n",
              "    }\n",
              "</style>\n",
              "<table border=\"1\" class=\"dataframe\">\n",
              "  <thead>\n",
              "    <tr style=\"text-align: right;\">\n",
              "      <th></th>\n",
              "      <th>Number of diagnosis</th>\n",
              "    </tr>\n",
              "    <tr>\n",
              "      <th>patient_id</th>\n",
              "      <th></th>\n",
              "    </tr>\n",
              "  </thead>\n",
              "  <tbody>\n",
              "    <tr>\n",
              "      <th>I9K54P60Z</th>\n",
              "      <td>1472</td>\n",
              "    </tr>\n",
              "    <tr>\n",
              "      <th>7LYRM6KWN</th>\n",
              "      <td>833</td>\n",
              "    </tr>\n",
              "    <tr>\n",
              "      <th>5SVMNGUNN</th>\n",
              "      <td>700</td>\n",
              "    </tr>\n",
              "    <tr>\n",
              "      <th>E2EHSR5TI</th>\n",
              "      <td>572</td>\n",
              "    </tr>\n",
              "    <tr>\n",
              "      <th>7QPYO7Y20</th>\n",
              "      <td>539</td>\n",
              "    </tr>\n",
              "    <tr>\n",
              "      <th>...</th>\n",
              "      <td>...</td>\n",
              "    </tr>\n",
              "    <tr>\n",
              "      <th>QZ5CAWJZU</th>\n",
              "      <td>1</td>\n",
              "    </tr>\n",
              "    <tr>\n",
              "      <th>BIKTJGRPH</th>\n",
              "      <td>1</td>\n",
              "    </tr>\n",
              "    <tr>\n",
              "      <th>BMOUFYMYD</th>\n",
              "      <td>1</td>\n",
              "    </tr>\n",
              "    <tr>\n",
              "      <th>FPPOKE40R</th>\n",
              "      <td>1</td>\n",
              "    </tr>\n",
              "    <tr>\n",
              "      <th>20XDAQC2B</th>\n",
              "      <td>1</td>\n",
              "    </tr>\n",
              "  </tbody>\n",
              "</table>\n",
              "<p>2227 rows × 1 columns</p>\n",
              "</div>"
            ],
            "text/plain": [
              "            Number of diagnosis\n",
              "patient_id                     \n",
              "I9K54P60Z                  1472\n",
              "7LYRM6KWN                   833\n",
              "5SVMNGUNN                   700\n",
              "E2EHSR5TI                   572\n",
              "7QPYO7Y20                   539\n",
              "...                         ...\n",
              "QZ5CAWJZU                     1\n",
              "BIKTJGRPH                     1\n",
              "BMOUFYMYD                     1\n",
              "FPPOKE40R                     1\n",
              "20XDAQC2B                     1\n",
              "\n",
              "[2227 rows x 1 columns]"
            ]
          },
          "metadata": {
            "tags": []
          },
          "execution_count": 81
        }
      ]
    },
    {
      "cell_type": "markdown",
      "metadata": {
        "id": "6xccuvCrj9yx",
        "colab_type": "text"
      },
      "source": [
        "#### A hearing problem is represented in the data as a patient's  everity of Hearing Loss\" being one of the following values: Slight, Mild, Moderate, Moderately Severe, Severe, or Profound. The client is interested in the total number of (di\u000berent) people with a hearing problem in comparison to the total number of people who have had a hearing evaluation (both numbers should be stated separately, as well as the % diagnosed having a hearing problem)."
      ]
    },
    {
      "cell_type": "code",
      "metadata": {
        "id": "vQew_svVh9u_",
        "colab_type": "code",
        "colab": {}
      },
      "source": [
        "event_dictionary ={'Normal' : 1, 'Mild' : 1, 'Moderate' : 1,'Moderately Severe ':1,'Slight':1,'Profound':1,'Severe':1,'Insufficient Data':1} \n",
        "\n",
        "df1['values'] = df1['severity_of_hearing_loss'].map(event_dictionary) "
      ],
      "execution_count": 82,
      "outputs": []
    },
    {
      "cell_type": "code",
      "metadata": {
        "id": "aqvOz_ZerA7R",
        "colab_type": "code",
        "colab": {
          "base_uri": "https://localhost:8080/",
          "height": 50
        },
        "outputId": "a0b2359c-a8a9-44c0-af2d-526eea6ec016"
      },
      "source": [
        "df1['values'].value_counts()"
      ],
      "execution_count": 83,
      "outputs": [
        {
          "output_type": "execute_result",
          "data": {
            "text/plain": [
              "1.0    46984\n",
              "Name: values, dtype: int64"
            ]
          },
          "metadata": {
            "tags": []
          },
          "execution_count": 83
        }
      ]
    },
    {
      "cell_type": "code",
      "metadata": {
        "id": "Od2E5EIXrW3Y",
        "colab_type": "code",
        "colab": {}
      },
      "source": [
        "z= len(df1)"
      ],
      "execution_count": 84,
      "outputs": []
    },
    {
      "cell_type": "code",
      "metadata": {
        "id": "mtDAAS2zsvN-",
        "colab_type": "code",
        "colab": {
          "base_uri": "https://localhost:8080/",
          "height": 84
        },
        "outputId": "a28b3e47-76af-4231-a356-91b24ab809b4"
      },
      "source": [
        "df1.columns"
      ],
      "execution_count": 85,
      "outputs": [
        {
          "output_type": "execute_result",
          "data": {
            "text/plain": [
              "Index(['patient_id', 'evaluation_age', 'severity_of_hearing_loss',\n",
              "       'unilateral_or_bilateral', 'has_conductive_hearing_loss',\n",
              "       'has_sensorineural_hearing_loss', 'values'],\n",
              "      dtype='object')"
            ]
          },
          "metadata": {
            "tags": []
          },
          "execution_count": 85
        }
      ]
    },
    {
      "cell_type": "code",
      "metadata": {
        "id": "ehc4MtrNsh6R",
        "colab_type": "code",
        "colab": {
          "base_uri": "https://localhost:8080/",
          "height": 34
        },
        "outputId": "3d121c9a-769a-4b2f-d265-fa7e0aaf2f1e"
      },
      "source": [
        "df11 = df1.drop_duplicates(subset='patient_id', keep=\"first\")\n",
        "y = len(df11)\n",
        "y"
      ],
      "execution_count": 86,
      "outputs": [
        {
          "output_type": "execute_result",
          "data": {
            "text/plain": [
              "33891"
            ]
          },
          "metadata": {
            "tags": []
          },
          "execution_count": 86
        }
      ]
    },
    {
      "cell_type": "code",
      "metadata": {
        "id": "svGo776OumuM",
        "colab_type": "code",
        "colab": {
          "base_uri": "https://localhost:8080/",
          "height": 34
        },
        "outputId": "38ff13f5-52a4-4a6a-a302-e89ba17b3a09"
      },
      "source": [
        "(df1['severity_of_hearing_loss'].value_counts())\n",
        "y1= (df1['severity_of_hearing_loss'].value_counts())[-2]\n",
        "y1"
      ],
      "execution_count": 87,
      "outputs": [
        {
          "output_type": "execute_result",
          "data": {
            "text/plain": [
              "229"
            ]
          },
          "metadata": {
            "tags": []
          },
          "execution_count": 87
        }
      ]
    },
    {
      "cell_type": "code",
      "metadata": {
        "id": "rGzYX0J4uzRf",
        "colab_type": "code",
        "colab": {
          "base_uri": "https://localhost:8080/",
          "height": 34
        },
        "outputId": "de9d9aad-1c9d-4303-99c2-89041fd67091"
      },
      "source": [
        "(y1/y)*100"
      ],
      "execution_count": 88,
      "outputs": [
        {
          "output_type": "execute_result",
          "data": {
            "text/plain": [
              "0.6756956124044732"
            ]
          },
          "metadata": {
            "tags": []
          },
          "execution_count": 88
        }
      ]
    },
    {
      "cell_type": "code",
      "metadata": {
        "id": "CqtQkbvKsyfq",
        "colab_type": "code",
        "colab": {
          "base_uri": "https://localhost:8080/",
          "height": 77
        },
        "outputId": "087350ed-9412-4df5-d328-9525ab9c4ab5"
      },
      "source": [
        "df4 = pd.DataFrame({'#Prople having problems': [y1], '#of people with hearing evaluation': [y],'%of the people having problem':[(y1/y)*100]})\n",
        "df4"
      ],
      "execution_count": 89,
      "outputs": [
        {
          "output_type": "execute_result",
          "data": {
            "text/html": [
              "<div>\n",
              "<style scoped>\n",
              "    .dataframe tbody tr th:only-of-type {\n",
              "        vertical-align: middle;\n",
              "    }\n",
              "\n",
              "    .dataframe tbody tr th {\n",
              "        vertical-align: top;\n",
              "    }\n",
              "\n",
              "    .dataframe thead th {\n",
              "        text-align: right;\n",
              "    }\n",
              "</style>\n",
              "<table border=\"1\" class=\"dataframe\">\n",
              "  <thead>\n",
              "    <tr style=\"text-align: right;\">\n",
              "      <th></th>\n",
              "      <th>#Prople having problems</th>\n",
              "      <th>#of people with hearing evaluation</th>\n",
              "      <th>%of the people having problem</th>\n",
              "    </tr>\n",
              "  </thead>\n",
              "  <tbody>\n",
              "    <tr>\n",
              "      <th>0</th>\n",
              "      <td>229</td>\n",
              "      <td>33891</td>\n",
              "      <td>0.675696</td>\n",
              "    </tr>\n",
              "  </tbody>\n",
              "</table>\n",
              "</div>"
            ],
            "text/plain": [
              "   #Prople having problems  ...  %of the people having problem\n",
              "0                      229  ...                       0.675696\n",
              "\n",
              "[1 rows x 3 columns]"
            ]
          },
          "metadata": {
            "tags": []
          },
          "execution_count": 89
        }
      ]
    },
    {
      "cell_type": "code",
      "metadata": {
        "id": "hkYmi9t5tzPs",
        "colab_type": "code",
        "colab": {}
      },
      "source": [
        "df5= pd.merge(df,df2,on='patient_id')"
      ],
      "execution_count": 90,
      "outputs": []
    },
    {
      "cell_type": "code",
      "metadata": {
        "id": "P8cMdzn6yBur",
        "colab_type": "code",
        "colab": {
          "base_uri": "https://localhost:8080/",
          "height": 363
        },
        "outputId": "55c16c84-1a5e-42f5-de2c-0237ebc380b8"
      },
      "source": [
        "df1.head(10)"
      ],
      "execution_count": 91,
      "outputs": [
        {
          "output_type": "execute_result",
          "data": {
            "text/html": [
              "<div>\n",
              "<style scoped>\n",
              "    .dataframe tbody tr th:only-of-type {\n",
              "        vertical-align: middle;\n",
              "    }\n",
              "\n",
              "    .dataframe tbody tr th {\n",
              "        vertical-align: top;\n",
              "    }\n",
              "\n",
              "    .dataframe thead th {\n",
              "        text-align: right;\n",
              "    }\n",
              "</style>\n",
              "<table border=\"1\" class=\"dataframe\">\n",
              "  <thead>\n",
              "    <tr style=\"text-align: right;\">\n",
              "      <th></th>\n",
              "      <th>patient_id</th>\n",
              "      <th>evaluation_age</th>\n",
              "      <th>severity_of_hearing_loss</th>\n",
              "      <th>unilateral_or_bilateral</th>\n",
              "      <th>has_conductive_hearing_loss</th>\n",
              "      <th>has_sensorineural_hearing_loss</th>\n",
              "      <th>values</th>\n",
              "    </tr>\n",
              "  </thead>\n",
              "  <tbody>\n",
              "    <tr>\n",
              "      <th>0</th>\n",
              "      <td>000JE5P7L</td>\n",
              "      <td>3.381548</td>\n",
              "      <td>Normal</td>\n",
              "      <td>Insufficient Data</td>\n",
              "      <td>f</td>\n",
              "      <td>f</td>\n",
              "      <td>1.0</td>\n",
              "    </tr>\n",
              "    <tr>\n",
              "      <th>1</th>\n",
              "      <td>001M87HBZ</td>\n",
              "      <td>5.191287</td>\n",
              "      <td>Normal</td>\n",
              "      <td>Insufficient Data</td>\n",
              "      <td>t</td>\n",
              "      <td>f</td>\n",
              "      <td>1.0</td>\n",
              "    </tr>\n",
              "    <tr>\n",
              "      <th>2</th>\n",
              "      <td>001M87HBZ</td>\n",
              "      <td>8.243763</td>\n",
              "      <td>Mild</td>\n",
              "      <td>Insufficient Data</td>\n",
              "      <td>t</td>\n",
              "      <td>f</td>\n",
              "      <td>1.0</td>\n",
              "    </tr>\n",
              "    <tr>\n",
              "      <th>3</th>\n",
              "      <td>002ANH0GH</td>\n",
              "      <td>7.355440</td>\n",
              "      <td>Normal</td>\n",
              "      <td>Normal</td>\n",
              "      <td>f</td>\n",
              "      <td>f</td>\n",
              "      <td>1.0</td>\n",
              "    </tr>\n",
              "    <tr>\n",
              "      <th>4</th>\n",
              "      <td>002ANH0GH</td>\n",
              "      <td>7.380081</td>\n",
              "      <td>Normal</td>\n",
              "      <td>Insufficient Data</td>\n",
              "      <td>f</td>\n",
              "      <td>f</td>\n",
              "      <td>1.0</td>\n",
              "    </tr>\n",
              "    <tr>\n",
              "      <th>5</th>\n",
              "      <td>005HXCYFF</td>\n",
              "      <td>4.267107</td>\n",
              "      <td>Normal</td>\n",
              "      <td>Insufficient Data</td>\n",
              "      <td>f</td>\n",
              "      <td>f</td>\n",
              "      <td>1.0</td>\n",
              "    </tr>\n",
              "    <tr>\n",
              "      <th>6</th>\n",
              "      <td>00B0OT59S</td>\n",
              "      <td>5.987728</td>\n",
              "      <td>Moderate</td>\n",
              "      <td>Insufficient Data</td>\n",
              "      <td>t</td>\n",
              "      <td>t</td>\n",
              "      <td>1.0</td>\n",
              "    </tr>\n",
              "    <tr>\n",
              "      <th>7</th>\n",
              "      <td>00BGN5YV7</td>\n",
              "      <td>4.349244</td>\n",
              "      <td>Normal</td>\n",
              "      <td>Insufficient Data</td>\n",
              "      <td>f</td>\n",
              "      <td>f</td>\n",
              "      <td>1.0</td>\n",
              "    </tr>\n",
              "    <tr>\n",
              "      <th>8</th>\n",
              "      <td>00F1S17X1</td>\n",
              "      <td>4.464236</td>\n",
              "      <td>Normal</td>\n",
              "      <td>Insufficient Data</td>\n",
              "      <td>f</td>\n",
              "      <td>f</td>\n",
              "      <td>1.0</td>\n",
              "    </tr>\n",
              "    <tr>\n",
              "      <th>9</th>\n",
              "      <td>00HQAUUEY</td>\n",
              "      <td>12.723302</td>\n",
              "      <td>Moderate</td>\n",
              "      <td>Bilateral</td>\n",
              "      <td>t</td>\n",
              "      <td>t</td>\n",
              "      <td>1.0</td>\n",
              "    </tr>\n",
              "  </tbody>\n",
              "</table>\n",
              "</div>"
            ],
            "text/plain": [
              "  patient_id  evaluation_age  ... has_sensorineural_hearing_loss values\n",
              "0  000JE5P7L        3.381548  ...                              f    1.0\n",
              "1  001M87HBZ        5.191287  ...                              f    1.0\n",
              "2  001M87HBZ        8.243763  ...                              f    1.0\n",
              "3  002ANH0GH        7.355440  ...                              f    1.0\n",
              "4  002ANH0GH        7.380081  ...                              f    1.0\n",
              "5  005HXCYFF        4.267107  ...                              f    1.0\n",
              "6  00B0OT59S        5.987728  ...                              t    1.0\n",
              "7  00BGN5YV7        4.349244  ...                              f    1.0\n",
              "8  00F1S17X1        4.464236  ...                              f    1.0\n",
              "9  00HQAUUEY       12.723302  ...                              t    1.0\n",
              "\n",
              "[10 rows x 7 columns]"
            ]
          },
          "metadata": {
            "tags": []
          },
          "execution_count": 91
        }
      ]
    },
    {
      "cell_type": "code",
      "metadata": {
        "id": "L9TA4fMg3jI3",
        "colab_type": "code",
        "colab": {
          "base_uri": "https://localhost:8080/",
          "height": 77
        },
        "outputId": "360d4e2b-84b5-471f-ca2c-099940eb5e85"
      },
      "source": [
        "df4.head(10)"
      ],
      "execution_count": 92,
      "outputs": [
        {
          "output_type": "execute_result",
          "data": {
            "text/html": [
              "<div>\n",
              "<style scoped>\n",
              "    .dataframe tbody tr th:only-of-type {\n",
              "        vertical-align: middle;\n",
              "    }\n",
              "\n",
              "    .dataframe tbody tr th {\n",
              "        vertical-align: top;\n",
              "    }\n",
              "\n",
              "    .dataframe thead th {\n",
              "        text-align: right;\n",
              "    }\n",
              "</style>\n",
              "<table border=\"1\" class=\"dataframe\">\n",
              "  <thead>\n",
              "    <tr style=\"text-align: right;\">\n",
              "      <th></th>\n",
              "      <th>#Prople having problems</th>\n",
              "      <th>#of people with hearing evaluation</th>\n",
              "      <th>%of the people having problem</th>\n",
              "    </tr>\n",
              "  </thead>\n",
              "  <tbody>\n",
              "    <tr>\n",
              "      <th>0</th>\n",
              "      <td>229</td>\n",
              "      <td>33891</td>\n",
              "      <td>0.675696</td>\n",
              "    </tr>\n",
              "  </tbody>\n",
              "</table>\n",
              "</div>"
            ],
            "text/plain": [
              "   #Prople having problems  ...  %of the people having problem\n",
              "0                      229  ...                       0.675696\n",
              "\n",
              "[1 rows x 3 columns]"
            ]
          },
          "metadata": {
            "tags": []
          },
          "execution_count": 92
        }
      ]
    },
    {
      "cell_type": "markdown",
      "metadata": {
        "id": "yeym5q4k_c31",
        "colab_type": "text"
      },
      "source": [
        "#### Looking specifially at CT imaging, the client would like to know the year group (i.e. you will need to group the ages of encounter into years) which is given the greatest number of CTs."
      ]
    },
    {
      "cell_type": "code",
      "metadata": {
        "id": "NEc4FERU_Pix",
        "colab_type": "code",
        "colab": {}
      },
      "source": [
        "df6= pd.merge(df,df2,on='patient_id')"
      ],
      "execution_count": 95,
      "outputs": []
    },
    {
      "cell_type": "code",
      "metadata": {
        "id": "Zvkc4ucx4KuW",
        "colab_type": "code",
        "colab": {
          "base_uri": "https://localhost:8080/",
          "height": 402
        },
        "outputId": "e3af1498-d497-4ec9-e345-5f509321d5fb"
      },
      "source": [
        "df5=df6.loc[df6['modality'] == 'CT']\n",
        "df5"
      ],
      "execution_count": 98,
      "outputs": [
        {
          "output_type": "execute_result",
          "data": {
            "text/html": [
              "<div>\n",
              "<style scoped>\n",
              "    .dataframe tbody tr th:only-of-type {\n",
              "        vertical-align: middle;\n",
              "    }\n",
              "\n",
              "    .dataframe tbody tr th {\n",
              "        vertical-align: top;\n",
              "    }\n",
              "\n",
              "    .dataframe thead th {\n",
              "        text-align: right;\n",
              "    }\n",
              "</style>\n",
              "<table border=\"1\" class=\"dataframe\">\n",
              "  <thead>\n",
              "    <tr style=\"text-align: right;\">\n",
              "      <th></th>\n",
              "      <th>patient_id</th>\n",
              "      <th>diagnosis_code</th>\n",
              "      <th>diagnosis_age</th>\n",
              "      <th>imaging_age</th>\n",
              "      <th>modality</th>\n",
              "    </tr>\n",
              "  </thead>\n",
              "  <tbody>\n",
              "    <tr>\n",
              "      <th>0</th>\n",
              "      <td>0263DNQG8</td>\n",
              "      <td>388.400000</td>\n",
              "      <td>0.067720</td>\n",
              "      <td>0.078671</td>\n",
              "      <td>CT</td>\n",
              "    </tr>\n",
              "    <tr>\n",
              "      <th>1</th>\n",
              "      <td>0263DNQG8</td>\n",
              "      <td>389.000000</td>\n",
              "      <td>0.067720</td>\n",
              "      <td>0.078671</td>\n",
              "      <td>CT</td>\n",
              "    </tr>\n",
              "    <tr>\n",
              "      <th>2</th>\n",
              "      <td>0263DNQG8</td>\n",
              "      <td>389.150000</td>\n",
              "      <td>0.067720</td>\n",
              "      <td>0.078671</td>\n",
              "      <td>CT</td>\n",
              "    </tr>\n",
              "    <tr>\n",
              "      <th>3</th>\n",
              "      <td>0263DNQG8</td>\n",
              "      <td>389.900000</td>\n",
              "      <td>0.067720</td>\n",
              "      <td>0.078671</td>\n",
              "      <td>CT</td>\n",
              "    </tr>\n",
              "    <tr>\n",
              "      <th>4</th>\n",
              "      <td>0263DNQG8</td>\n",
              "      <td>744.300000</td>\n",
              "      <td>0.067720</td>\n",
              "      <td>0.078671</td>\n",
              "      <td>CT</td>\n",
              "    </tr>\n",
              "    <tr>\n",
              "      <th>...</th>\n",
              "      <td>...</td>\n",
              "      <td>...</td>\n",
              "      <td>...</td>\n",
              "      <td>...</td>\n",
              "      <td>...</td>\n",
              "    </tr>\n",
              "    <tr>\n",
              "      <th>70965</th>\n",
              "      <td>WLMMGAIN5</td>\n",
              "      <td>389.050000</td>\n",
              "      <td>14.392211</td>\n",
              "      <td>14.258053</td>\n",
              "      <td>CT</td>\n",
              "    </tr>\n",
              "    <tr>\n",
              "      <th>70966</th>\n",
              "      <td>WLMMGAIN5</td>\n",
              "      <td>389.050000</td>\n",
              "      <td>14.392211</td>\n",
              "      <td>14.414114</td>\n",
              "      <td>CT</td>\n",
              "    </tr>\n",
              "    <tr>\n",
              "      <th>70967</th>\n",
              "      <td>WLMMGAIN5</td>\n",
              "      <td>V72.19</td>\n",
              "      <td>14.216985</td>\n",
              "      <td>9.551356</td>\n",
              "      <td>CT</td>\n",
              "    </tr>\n",
              "    <tr>\n",
              "      <th>70968</th>\n",
              "      <td>WLMMGAIN5</td>\n",
              "      <td>V72.19</td>\n",
              "      <td>14.216985</td>\n",
              "      <td>14.258053</td>\n",
              "      <td>CT</td>\n",
              "    </tr>\n",
              "    <tr>\n",
              "      <th>70969</th>\n",
              "      <td>WLMMGAIN5</td>\n",
              "      <td>V72.19</td>\n",
              "      <td>14.216985</td>\n",
              "      <td>14.414114</td>\n",
              "      <td>CT</td>\n",
              "    </tr>\n",
              "  </tbody>\n",
              "</table>\n",
              "<p>39014 rows × 5 columns</p>\n",
              "</div>"
            ],
            "text/plain": [
              "      patient_id diagnosis_code  diagnosis_age  imaging_age modality\n",
              "0      0263DNQG8     388.400000       0.067720     0.078671       CT\n",
              "1      0263DNQG8     389.000000       0.067720     0.078671       CT\n",
              "2      0263DNQG8     389.150000       0.067720     0.078671       CT\n",
              "3      0263DNQG8     389.900000       0.067720     0.078671       CT\n",
              "4      0263DNQG8     744.300000       0.067720     0.078671       CT\n",
              "...          ...            ...            ...          ...      ...\n",
              "70965  WLMMGAIN5     389.050000      14.392211    14.258053       CT\n",
              "70966  WLMMGAIN5     389.050000      14.392211    14.414114       CT\n",
              "70967  WLMMGAIN5         V72.19      14.216985     9.551356       CT\n",
              "70968  WLMMGAIN5         V72.19      14.216985    14.258053       CT\n",
              "70969  WLMMGAIN5         V72.19      14.216985    14.414114       CT\n",
              "\n",
              "[39014 rows x 5 columns]"
            ]
          },
          "metadata": {
            "tags": []
          },
          "execution_count": 98
        }
      ]
    },
    {
      "cell_type": "code",
      "metadata": {
        "id": "NrP3vppP5DrU",
        "colab_type": "code",
        "colab": {
          "base_uri": "https://localhost:8080/",
          "height": 366
        },
        "outputId": "9b48fa8c-d82e-45e5-a5d1-ad54addf8f63"
      },
      "source": [
        "import matplotlib.pyplot as plt\n",
        "plt.hist(df5['diagnosis_age'], bins=10)\n"
      ],
      "execution_count": 99,
      "outputs": [
        {
          "output_type": "execute_result",
          "data": {
            "text/plain": [
              "(array([ 4910.,  5840.,  3490., 11315.,  6842.,  4829.,  1400.,   305.,\n",
              "           59.,    24.]),\n",
              " array([2.00980151e-03, 3.22627344e+00, 6.45053707e+00, 9.67480070e+00,\n",
              "        1.28990643e+01, 1.61233280e+01, 1.93475916e+01, 2.25718552e+01,\n",
              "        2.57961189e+01, 2.90203825e+01, 3.22446461e+01]),\n",
              " <a list of 10 Patch objects>)"
            ]
          },
          "metadata": {
            "tags": []
          },
          "execution_count": 99
        },
        {
          "output_type": "display_data",
          "data": {
            "image/png": "[encoded data removed]",
            "text/plain": [
              "<Figure size 432x288 with 1 Axes>"
            ]
          },
          "metadata": {
            "tags": [],
            "needs_background": "light"
          }
        }
      ]
    }
  ]
}